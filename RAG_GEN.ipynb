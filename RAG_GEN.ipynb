{
 "cells": [
  {
   "cell_type": "code",
   "execution_count": 2,
   "id": "a6127c67-8fa7-4af4-b95c-22b42530f1d4",
   "metadata": {},
   "outputs": [
    {
     "name": "stdout",
     "output_type": "stream",
     "text": [
      "Requirement already satisfied: PyPDF2 in c:\\users\\abhay\\anaconda3\\envs\\llm39\\lib\\site-packages (3.0.1)\n"
     ]
    }
   ],
   "source": [
    "!pip install PyPDF2"
   ]
  },
  {
   "cell_type": "code",
   "execution_count": 3,
   "id": "50c12eb6-5bec-4516-821b-ca5f73125d5f",
   "metadata": {},
   "outputs": [
    {
     "data": {
      "text/plain": [
       "True"
      ]
     },
     "execution_count": 3,
     "metadata": {},
     "output_type": "execute_result"
    }
   ],
   "source": [
    "import PyPDF2\n",
    "from langchain_text_splitters import RecursiveCharacterTextSplitter\n",
    "from langchain_community.vectorstores import Chroma\n",
    "from langchain_core.documents import Document\n",
    "from langchain_community.embeddings import SentenceTransformerEmbeddings\n",
    "from langchain_community.embeddings import HuggingFaceBgeEmbeddings\n",
    "from langchain_community.embeddings import SentenceTransformerEmbeddings\n",
    "from langchain.schema import Document\n",
    "from langchain_community.vectorstores import Chroma\n",
    "from langchain.embeddings import SentenceTransformerEmbeddings\n",
    "from langchain.schema import Document\n",
    "from langchain_groq import ChatGroq\n",
    "from langchain_core.output_parsers import StrOutputParser\n",
    "from langchain_core.prompts import PromptTemplate\n",
    "from dotenv import load_dotenv\n",
    "load_dotenv()"
   ]
  },
  {
   "cell_type": "code",
   "execution_count": 4,
   "id": "28fac4b7-5d5e-4f3a-9711-08030885aaca",
   "metadata": {},
   "outputs": [],
   "source": [
    "Pdfreader = PyPDF2.PdfReader('budget_speech (1).pdf')"
   ]
  },
  {
   "cell_type": "code",
   "execution_count": 5,
   "id": "0889ef46-1031-4361-ad81-2bf9dc588ea4",
   "metadata": {},
   "outputs": [
    {
     "data": {
      "text/plain": [
       "<PyPDF2._reader.PdfReader at 0x19accafe030>"
      ]
     },
     "execution_count": 5,
     "metadata": {},
     "output_type": "execute_result"
    }
   ],
   "source": [
    "Pdfreader"
   ]
  },
  {
   "cell_type": "code",
   "execution_count": 6,
   "id": "9b484918-2d28-42de-a0d2-95caf520e8fc",
   "metadata": {},
   "outputs": [],
   "source": [
    "Pdfreader = PyPDF2.PdfReader('../../Datasets/budget_speech (1).pdf')"
   ]
  },
  {
   "cell_type": "code",
   "execution_count": 7,
   "id": "01038ddc-b115-443f-a408-ea27a60739d4",
   "metadata": {},
   "outputs": [
    {
     "name": "stdout",
     "output_type": "stream",
     "text": [
      "GOVERNMENT OF INDIA\n",
      "BUDGET 2025-2026\n",
      "SPEECH\n",
      "OF\n",
      "NIRMALA SITHARAMAN\n",
      "MINISTER OF FINANCE\n",
      "February 1,  2025\n"
     ]
    }
   ],
   "source": [
    "for page in Pdfreader.pages:\n",
    "    print(page.extract_text())\n",
    "    break"
   ]
  },
  {
   "cell_type": "code",
   "execution_count": 8,
   "id": "bde82afa-a801-477a-b212-3b8937f2cbcc",
   "metadata": {},
   "outputs": [],
   "source": [
    "data = ''\n",
    "for page in Pdfreader.pages:\n",
    "    data = data +\"\\n\\n\"+page.extract_text()"
   ]
  },
  {
   "cell_type": "code",
   "execution_count": 9,
   "id": "cb981fbd-93ad-4e7d-9346-39f97edb9fed",
   "metadata": {},
   "outputs": [],
   "source": [
    "#print(data)\n"
   ]
  },
  {
   "cell_type": "code",
   "execution_count": 10,
   "id": "e32efb25-cb0f-417d-8bce-50da26f6a092",
   "metadata": {},
   "outputs": [
    {
     "data": {
      "text/plain": [
       "93212"
      ]
     },
     "execution_count": 10,
     "metadata": {},
     "output_type": "execute_result"
    }
   ],
   "source": [
    "len(data)"
   ]
  },
  {
   "cell_type": "code",
   "execution_count": 11,
   "id": "ba83e994-68f4-44a0-be2b-fec2173c5afc",
   "metadata": {},
   "outputs": [
    {
     "data": {
      "text/plain": [
       "60"
      ]
     },
     "execution_count": 11,
     "metadata": {},
     "output_type": "execute_result"
    }
   ],
   "source": [
    "len(Pdfreader.pages)"
   ]
  },
  {
   "cell_type": "code",
   "execution_count": 12,
   "id": "6b389320-f783-49b6-a02f-a3d2dd026f90",
   "metadata": {},
   "outputs": [],
   "source": [
    "from langchain_text_splitters import RecursiveCharacterTextSplitter"
   ]
  },
  {
   "cell_type": "code",
   "execution_count": 13,
   "id": "6f06a2a6-bbae-4a99-8eb9-416deaac6101",
   "metadata": {},
   "outputs": [],
   "source": [
    "text_splitter = RecursiveCharacterTextSplitter(chunk_size=1000,chunk_overlap=200)\n",
    "chunks = text_splitter.split_text(data)"
   ]
  },
  {
   "cell_type": "code",
   "execution_count": 14,
   "id": "63d1986c-7167-4dc2-a565-e3c867350a5a",
   "metadata": {},
   "outputs": [],
   "source": [
    "#chunks"
   ]
  },
  {
   "cell_type": "code",
   "execution_count": 15,
   "id": "11d24fb9-8d63-478f-8c37-c375e861c2b1",
   "metadata": {},
   "outputs": [
    {
     "data": {
      "text/plain": [
       "135"
      ]
     },
     "execution_count": 15,
     "metadata": {},
     "output_type": "execute_result"
    }
   ],
   "source": [
    "len(chunks)"
   ]
  },
  {
   "cell_type": "code",
   "execution_count": 16,
   "id": "e39c9aa1-0ad4-4e42-afac-72351653380a",
   "metadata": {},
   "outputs": [
    {
     "name": "stdout",
     "output_type": "stream",
     "text": [
      "the goal of adding 75,000 seats in the next 5 years.  \n",
      "Day Care Cancer Centres in all District Hospitals   \n",
      "48. Our Government  will facilitate setting up of Day Care Cancer Centres \n",
      "in all district hospitals in the next 3 years. 200 Centres will be established in \n",
      "2025 -26.\n"
     ]
    }
   ],
   "source": [
    "print(chunks[24])"
   ]
  },
  {
   "cell_type": "code",
   "execution_count": 17,
   "id": "3d004112-a4f8-458c-a027-23f6cd2b1d95",
   "metadata": {},
   "outputs": [],
   "source": [
    "from langchain.schema import Document"
   ]
  },
  {
   "cell_type": "code",
   "execution_count": 18,
   "id": "a6d0c815-6111-4841-a4ac-a35931c463b9",
   "metadata": {},
   "outputs": [],
   "source": [
    "documents = [Document(page_content=chunks) for chunks in chunks]"
   ]
  },
  {
   "cell_type": "code",
   "execution_count": 19,
   "id": "816f7202-58d5-446c-b79e-6ddbe069619b",
   "metadata": {},
   "outputs": [],
   "source": [
    "from langchain.vectorstores import chroma\n",
    "from langchain.embeddings import OpenVINOEmbeddings"
   ]
  },
  {
   "cell_type": "code",
   "execution_count": 20,
   "id": "ca707e89-9570-4e73-94c4-d009a6c618cc",
   "metadata": {},
   "outputs": [
    {
     "name": "stdout",
     "output_type": "stream",
     "text": [
      "Requirement already satisfied: sentence-transformers in c:\\users\\abhay\\anaconda3\\envs\\llm39\\lib\\site-packages (5.1.0)\n",
      "Requirement already satisfied: transformers<5.0.0,>=4.41.0 in c:\\users\\abhay\\anaconda3\\envs\\llm39\\lib\\site-packages (from sentence-transformers) (4.56.0)\n",
      "Requirement already satisfied: tqdm in c:\\users\\abhay\\anaconda3\\envs\\llm39\\lib\\site-packages (from sentence-transformers) (4.67.1)\n",
      "Requirement already satisfied: torch>=1.11.0 in c:\\users\\abhay\\anaconda3\\envs\\llm39\\lib\\site-packages (from sentence-transformers) (2.8.0)\n",
      "Requirement already satisfied: scikit-learn in c:\\users\\abhay\\anaconda3\\envs\\llm39\\lib\\site-packages (from sentence-transformers) (1.7.1)\n",
      "Requirement already satisfied: scipy in c:\\users\\abhay\\anaconda3\\envs\\llm39\\lib\\site-packages (from sentence-transformers) (1.16.1)\n",
      "Requirement already satisfied: huggingface-hub>=0.20.0 in c:\\users\\abhay\\anaconda3\\envs\\llm39\\lib\\site-packages (from sentence-transformers) (0.34.4)\n",
      "Requirement already satisfied: Pillow in c:\\users\\abhay\\anaconda3\\envs\\llm39\\lib\\site-packages (from sentence-transformers) (11.3.0)\n",
      "Requirement already satisfied: typing_extensions>=4.5.0 in c:\\users\\abhay\\anaconda3\\envs\\llm39\\lib\\site-packages (from sentence-transformers) (4.15.0)\n",
      "Requirement already satisfied: filelock in c:\\users\\abhay\\anaconda3\\envs\\llm39\\lib\\site-packages (from transformers<5.0.0,>=4.41.0->sentence-transformers) (3.19.1)\n",
      "Requirement already satisfied: numpy>=1.17 in c:\\users\\abhay\\anaconda3\\envs\\llm39\\lib\\site-packages (from transformers<5.0.0,>=4.41.0->sentence-transformers) (2.3.2)\n",
      "Requirement already satisfied: packaging>=20.0 in c:\\users\\abhay\\anaconda3\\envs\\llm39\\lib\\site-packages (from transformers<5.0.0,>=4.41.0->sentence-transformers) (25.0)\n",
      "Requirement already satisfied: pyyaml>=5.1 in c:\\users\\abhay\\anaconda3\\envs\\llm39\\lib\\site-packages (from transformers<5.0.0,>=4.41.0->sentence-transformers) (6.0.2)\n",
      "Requirement already satisfied: regex!=2019.12.17 in c:\\users\\abhay\\anaconda3\\envs\\llm39\\lib\\site-packages (from transformers<5.0.0,>=4.41.0->sentence-transformers) (2025.7.34)\n",
      "Requirement already satisfied: requests in c:\\users\\abhay\\anaconda3\\envs\\llm39\\lib\\site-packages (from transformers<5.0.0,>=4.41.0->sentence-transformers) (2.32.5)\n",
      "Requirement already satisfied: tokenizers<=0.23.0,>=0.22.0 in c:\\users\\abhay\\anaconda3\\envs\\llm39\\lib\\site-packages (from transformers<5.0.0,>=4.41.0->sentence-transformers) (0.22.0)\n",
      "Requirement already satisfied: safetensors>=0.4.3 in c:\\users\\abhay\\anaconda3\\envs\\llm39\\lib\\site-packages (from transformers<5.0.0,>=4.41.0->sentence-transformers) (0.6.2)\n",
      "Requirement already satisfied: fsspec>=2023.5.0 in c:\\users\\abhay\\anaconda3\\envs\\llm39\\lib\\site-packages (from huggingface-hub>=0.20.0->sentence-transformers) (2025.9.0)\n",
      "Requirement already satisfied: sympy>=1.13.3 in c:\\users\\abhay\\anaconda3\\envs\\llm39\\lib\\site-packages (from torch>=1.11.0->sentence-transformers) (1.14.0)\n",
      "Requirement already satisfied: networkx in c:\\users\\abhay\\anaconda3\\envs\\llm39\\lib\\site-packages (from torch>=1.11.0->sentence-transformers) (3.5)\n",
      "Requirement already satisfied: jinja2 in c:\\users\\abhay\\anaconda3\\envs\\llm39\\lib\\site-packages (from torch>=1.11.0->sentence-transformers) (3.1.6)\n",
      "Requirement already satisfied: setuptools in c:\\users\\abhay\\anaconda3\\envs\\llm39\\lib\\site-packages (from torch>=1.11.0->sentence-transformers) (78.1.1)\n",
      "Requirement already satisfied: mpmath<1.4,>=1.1.0 in c:\\users\\abhay\\anaconda3\\envs\\llm39\\lib\\site-packages (from sympy>=1.13.3->torch>=1.11.0->sentence-transformers) (1.3.0)\n",
      "Requirement already satisfied: colorama in c:\\users\\abhay\\anaconda3\\envs\\llm39\\lib\\site-packages (from tqdm->sentence-transformers) (0.4.6)\n",
      "Requirement already satisfied: MarkupSafe>=2.0 in c:\\users\\abhay\\anaconda3\\envs\\llm39\\lib\\site-packages (from jinja2->torch>=1.11.0->sentence-transformers) (3.0.2)\n",
      "Requirement already satisfied: charset_normalizer<4,>=2 in c:\\users\\abhay\\anaconda3\\envs\\llm39\\lib\\site-packages (from requests->transformers<5.0.0,>=4.41.0->sentence-transformers) (3.4.3)\n",
      "Requirement already satisfied: idna<4,>=2.5 in c:\\users\\abhay\\anaconda3\\envs\\llm39\\lib\\site-packages (from requests->transformers<5.0.0,>=4.41.0->sentence-transformers) (3.10)\n",
      "Requirement already satisfied: urllib3<3,>=1.21.1 in c:\\users\\abhay\\anaconda3\\envs\\llm39\\lib\\site-packages (from requests->transformers<5.0.0,>=4.41.0->sentence-transformers) (2.5.0)\n",
      "Requirement already satisfied: certifi>=2017.4.17 in c:\\users\\abhay\\anaconda3\\envs\\llm39\\lib\\site-packages (from requests->transformers<5.0.0,>=4.41.0->sentence-transformers) (2025.8.3)\n",
      "Requirement already satisfied: joblib>=1.2.0 in c:\\users\\abhay\\anaconda3\\envs\\llm39\\lib\\site-packages (from scikit-learn->sentence-transformers) (1.5.2)\n",
      "Requirement already satisfied: threadpoolctl>=3.1.0 in c:\\users\\abhay\\anaconda3\\envs\\llm39\\lib\\site-packages (from scikit-learn->sentence-transformers) (3.6.0)\n",
      "Note: you may need to restart the kernel to use updated packages.\n"
     ]
    }
   ],
   "source": [
    "pip install sentence-transformers"
   ]
  },
  {
   "cell_type": "code",
   "execution_count": 21,
   "id": "8f7493a9-3696-458a-8b8f-5e8bbd48ea67",
   "metadata": {},
   "outputs": [
    {
     "name": "stdout",
     "output_type": "stream",
     "text": [
      "Requirement already satisfied: chromadb in c:\\users\\abhay\\anaconda3\\envs\\llm39\\lib\\site-packages (1.0.20)\n",
      "Requirement already satisfied: build>=1.0.3 in c:\\users\\abhay\\anaconda3\\envs\\llm39\\lib\\site-packages (from chromadb) (1.3.0)\n",
      "Requirement already satisfied: pydantic>=1.9 in c:\\users\\abhay\\anaconda3\\envs\\llm39\\lib\\site-packages (from chromadb) (2.11.7)\n",
      "Requirement already satisfied: pybase64>=1.4.1 in c:\\users\\abhay\\anaconda3\\envs\\llm39\\lib\\site-packages (from chromadb) (1.4.2)\n",
      "Requirement already satisfied: uvicorn>=0.18.3 in c:\\users\\abhay\\anaconda3\\envs\\llm39\\lib\\site-packages (from uvicorn[standard]>=0.18.3->chromadb) (0.35.0)\n",
      "Requirement already satisfied: numpy>=1.22.5 in c:\\users\\abhay\\anaconda3\\envs\\llm39\\lib\\site-packages (from chromadb) (2.3.2)\n",
      "Requirement already satisfied: posthog<6.0.0,>=2.4.0 in c:\\users\\abhay\\anaconda3\\envs\\llm39\\lib\\site-packages (from chromadb) (5.4.0)\n",
      "Requirement already satisfied: typing-extensions>=4.5.0 in c:\\users\\abhay\\anaconda3\\envs\\llm39\\lib\\site-packages (from chromadb) (4.15.0)\n",
      "Requirement already satisfied: onnxruntime>=1.14.1 in c:\\users\\abhay\\anaconda3\\envs\\llm39\\lib\\site-packages (from chromadb) (1.22.1)\n",
      "Requirement already satisfied: opentelemetry-api>=1.2.0 in c:\\users\\abhay\\anaconda3\\envs\\llm39\\lib\\site-packages (from chromadb) (1.36.0)\n",
      "Requirement already satisfied: opentelemetry-exporter-otlp-proto-grpc>=1.2.0 in c:\\users\\abhay\\anaconda3\\envs\\llm39\\lib\\site-packages (from chromadb) (1.36.0)\n",
      "Requirement already satisfied: opentelemetry-sdk>=1.2.0 in c:\\users\\abhay\\anaconda3\\envs\\llm39\\lib\\site-packages (from chromadb) (1.36.0)\n",
      "Requirement already satisfied: tokenizers>=0.13.2 in c:\\users\\abhay\\anaconda3\\envs\\llm39\\lib\\site-packages (from chromadb) (0.22.0)\n",
      "Requirement already satisfied: pypika>=0.48.9 in c:\\users\\abhay\\anaconda3\\envs\\llm39\\lib\\site-packages (from chromadb) (0.48.9)\n",
      "Requirement already satisfied: tqdm>=4.65.0 in c:\\users\\abhay\\anaconda3\\envs\\llm39\\lib\\site-packages (from chromadb) (4.67.1)\n",
      "Requirement already satisfied: overrides>=7.3.1 in c:\\users\\abhay\\anaconda3\\envs\\llm39\\lib\\site-packages (from chromadb) (7.7.0)\n",
      "Requirement already satisfied: importlib-resources in c:\\users\\abhay\\anaconda3\\envs\\llm39\\lib\\site-packages (from chromadb) (6.5.2)\n",
      "Requirement already satisfied: grpcio>=1.58.0 in c:\\users\\abhay\\anaconda3\\envs\\llm39\\lib\\site-packages (from chromadb) (1.74.0)\n",
      "Requirement already satisfied: bcrypt>=4.0.1 in c:\\users\\abhay\\anaconda3\\envs\\llm39\\lib\\site-packages (from chromadb) (4.3.0)\n",
      "Requirement already satisfied: typer>=0.9.0 in c:\\users\\abhay\\anaconda3\\envs\\llm39\\lib\\site-packages (from chromadb) (0.17.3)\n",
      "Requirement already satisfied: kubernetes>=28.1.0 in c:\\users\\abhay\\anaconda3\\envs\\llm39\\lib\\site-packages (from chromadb) (33.1.0)\n",
      "Requirement already satisfied: tenacity>=8.2.3 in c:\\users\\abhay\\anaconda3\\envs\\llm39\\lib\\site-packages (from chromadb) (9.1.2)\n",
      "Requirement already satisfied: pyyaml>=6.0.0 in c:\\users\\abhay\\anaconda3\\envs\\llm39\\lib\\site-packages (from chromadb) (6.0.2)\n",
      "Requirement already satisfied: mmh3>=4.0.1 in c:\\users\\abhay\\anaconda3\\envs\\llm39\\lib\\site-packages (from chromadb) (5.2.0)\n",
      "Requirement already satisfied: orjson>=3.9.12 in c:\\users\\abhay\\anaconda3\\envs\\llm39\\lib\\site-packages (from chromadb) (3.11.3)\n",
      "Requirement already satisfied: httpx>=0.27.0 in c:\\users\\abhay\\anaconda3\\envs\\llm39\\lib\\site-packages (from chromadb) (0.28.1)\n",
      "Requirement already satisfied: rich>=10.11.0 in c:\\users\\abhay\\anaconda3\\envs\\llm39\\lib\\site-packages (from chromadb) (14.1.0)\n",
      "Requirement already satisfied: jsonschema>=4.19.0 in c:\\users\\abhay\\anaconda3\\envs\\llm39\\lib\\site-packages (from chromadb) (4.25.1)\n",
      "Requirement already satisfied: requests<3.0,>=2.7 in c:\\users\\abhay\\anaconda3\\envs\\llm39\\lib\\site-packages (from posthog<6.0.0,>=2.4.0->chromadb) (2.32.5)\n",
      "Requirement already satisfied: six>=1.5 in c:\\users\\abhay\\anaconda3\\envs\\llm39\\lib\\site-packages (from posthog<6.0.0,>=2.4.0->chromadb) (1.17.0)\n",
      "Requirement already satisfied: python-dateutil>=2.2 in c:\\users\\abhay\\anaconda3\\envs\\llm39\\lib\\site-packages (from posthog<6.0.0,>=2.4.0->chromadb) (2.9.0.post0)\n",
      "Requirement already satisfied: backoff>=1.10.0 in c:\\users\\abhay\\anaconda3\\envs\\llm39\\lib\\site-packages (from posthog<6.0.0,>=2.4.0->chromadb) (2.2.1)\n",
      "Requirement already satisfied: distro>=1.5.0 in c:\\users\\abhay\\anaconda3\\envs\\llm39\\lib\\site-packages (from posthog<6.0.0,>=2.4.0->chromadb) (1.9.0)\n",
      "Requirement already satisfied: charset_normalizer<4,>=2 in c:\\users\\abhay\\anaconda3\\envs\\llm39\\lib\\site-packages (from requests<3.0,>=2.7->posthog<6.0.0,>=2.4.0->chromadb) (3.4.3)\n",
      "Requirement already satisfied: idna<4,>=2.5 in c:\\users\\abhay\\anaconda3\\envs\\llm39\\lib\\site-packages (from requests<3.0,>=2.7->posthog<6.0.0,>=2.4.0->chromadb) (3.10)\n",
      "Requirement already satisfied: urllib3<3,>=1.21.1 in c:\\users\\abhay\\anaconda3\\envs\\llm39\\lib\\site-packages (from requests<3.0,>=2.7->posthog<6.0.0,>=2.4.0->chromadb) (2.5.0)\n",
      "Requirement already satisfied: certifi>=2017.4.17 in c:\\users\\abhay\\anaconda3\\envs\\llm39\\lib\\site-packages (from requests<3.0,>=2.7->posthog<6.0.0,>=2.4.0->chromadb) (2025.8.3)\n",
      "Requirement already satisfied: packaging>=19.1 in c:\\users\\abhay\\anaconda3\\envs\\llm39\\lib\\site-packages (from build>=1.0.3->chromadb) (25.0)\n",
      "Requirement already satisfied: pyproject_hooks in c:\\users\\abhay\\anaconda3\\envs\\llm39\\lib\\site-packages (from build>=1.0.3->chromadb) (1.2.0)\n",
      "Requirement already satisfied: colorama in c:\\users\\abhay\\anaconda3\\envs\\llm39\\lib\\site-packages (from build>=1.0.3->chromadb) (0.4.6)\n",
      "Requirement already satisfied: anyio in c:\\users\\abhay\\anaconda3\\envs\\llm39\\lib\\site-packages (from httpx>=0.27.0->chromadb) (4.10.0)\n",
      "Requirement already satisfied: httpcore==1.* in c:\\users\\abhay\\anaconda3\\envs\\llm39\\lib\\site-packages (from httpx>=0.27.0->chromadb) (1.0.9)\n",
      "Requirement already satisfied: h11>=0.16 in c:\\users\\abhay\\anaconda3\\envs\\llm39\\lib\\site-packages (from httpcore==1.*->httpx>=0.27.0->chromadb) (0.16.0)\n",
      "Requirement already satisfied: attrs>=22.2.0 in c:\\users\\abhay\\anaconda3\\envs\\llm39\\lib\\site-packages (from jsonschema>=4.19.0->chromadb) (25.3.0)\n",
      "Requirement already satisfied: jsonschema-specifications>=2023.03.6 in c:\\users\\abhay\\anaconda3\\envs\\llm39\\lib\\site-packages (from jsonschema>=4.19.0->chromadb) (2025.4.1)\n",
      "Requirement already satisfied: referencing>=0.28.4 in c:\\users\\abhay\\anaconda3\\envs\\llm39\\lib\\site-packages (from jsonschema>=4.19.0->chromadb) (0.36.2)\n",
      "Requirement already satisfied: rpds-py>=0.7.1 in c:\\users\\abhay\\anaconda3\\envs\\llm39\\lib\\site-packages (from jsonschema>=4.19.0->chromadb) (0.27.1)\n",
      "Requirement already satisfied: google-auth>=1.0.1 in c:\\users\\abhay\\anaconda3\\envs\\llm39\\lib\\site-packages (from kubernetes>=28.1.0->chromadb) (2.40.3)\n",
      "Requirement already satisfied: websocket-client!=0.40.0,!=0.41.*,!=0.42.*,>=0.32.0 in c:\\users\\abhay\\anaconda3\\envs\\llm39\\lib\\site-packages (from kubernetes>=28.1.0->chromadb) (1.8.0)\n",
      "Requirement already satisfied: requests-oauthlib in c:\\users\\abhay\\anaconda3\\envs\\llm39\\lib\\site-packages (from kubernetes>=28.1.0->chromadb) (2.0.0)\n",
      "Requirement already satisfied: oauthlib>=3.2.2 in c:\\users\\abhay\\anaconda3\\envs\\llm39\\lib\\site-packages (from kubernetes>=28.1.0->chromadb) (3.3.1)\n",
      "Requirement already satisfied: durationpy>=0.7 in c:\\users\\abhay\\anaconda3\\envs\\llm39\\lib\\site-packages (from kubernetes>=28.1.0->chromadb) (0.10)\n",
      "Requirement already satisfied: cachetools<6.0,>=2.0.0 in c:\\users\\abhay\\anaconda3\\envs\\llm39\\lib\\site-packages (from google-auth>=1.0.1->kubernetes>=28.1.0->chromadb) (5.5.2)\n",
      "Requirement already satisfied: pyasn1-modules>=0.2.1 in c:\\users\\abhay\\anaconda3\\envs\\llm39\\lib\\site-packages (from google-auth>=1.0.1->kubernetes>=28.1.0->chromadb) (0.4.2)\n",
      "Requirement already satisfied: rsa<5,>=3.1.4 in c:\\users\\abhay\\anaconda3\\envs\\llm39\\lib\\site-packages (from google-auth>=1.0.1->kubernetes>=28.1.0->chromadb) (4.9.1)\n",
      "Requirement already satisfied: pyasn1>=0.1.3 in c:\\users\\abhay\\anaconda3\\envs\\llm39\\lib\\site-packages (from rsa<5,>=3.1.4->google-auth>=1.0.1->kubernetes>=28.1.0->chromadb) (0.6.1)\n",
      "Requirement already satisfied: coloredlogs in c:\\users\\abhay\\anaconda3\\envs\\llm39\\lib\\site-packages (from onnxruntime>=1.14.1->chromadb) (15.0.1)\n",
      "Requirement already satisfied: flatbuffers in c:\\users\\abhay\\anaconda3\\envs\\llm39\\lib\\site-packages (from onnxruntime>=1.14.1->chromadb) (25.2.10)\n",
      "Requirement already satisfied: protobuf in c:\\users\\abhay\\anaconda3\\envs\\llm39\\lib\\site-packages (from onnxruntime>=1.14.1->chromadb) (6.32.0)\n",
      "Requirement already satisfied: sympy in c:\\users\\abhay\\anaconda3\\envs\\llm39\\lib\\site-packages (from onnxruntime>=1.14.1->chromadb) (1.14.0)\n",
      "Requirement already satisfied: importlib-metadata<8.8.0,>=6.0 in c:\\users\\abhay\\anaconda3\\envs\\llm39\\lib\\site-packages (from opentelemetry-api>=1.2.0->chromadb) (8.7.0)\n",
      "Requirement already satisfied: zipp>=3.20 in c:\\users\\abhay\\anaconda3\\envs\\llm39\\lib\\site-packages (from importlib-metadata<8.8.0,>=6.0->opentelemetry-api>=1.2.0->chromadb) (3.23.0)\n",
      "Requirement already satisfied: googleapis-common-protos~=1.57 in c:\\users\\abhay\\anaconda3\\envs\\llm39\\lib\\site-packages (from opentelemetry-exporter-otlp-proto-grpc>=1.2.0->chromadb) (1.70.0)\n",
      "Requirement already satisfied: opentelemetry-exporter-otlp-proto-common==1.36.0 in c:\\users\\abhay\\anaconda3\\envs\\llm39\\lib\\site-packages (from opentelemetry-exporter-otlp-proto-grpc>=1.2.0->chromadb) (1.36.0)\n",
      "Requirement already satisfied: opentelemetry-proto==1.36.0 in c:\\users\\abhay\\anaconda3\\envs\\llm39\\lib\\site-packages (from opentelemetry-exporter-otlp-proto-grpc>=1.2.0->chromadb) (1.36.0)\n",
      "Requirement already satisfied: opentelemetry-semantic-conventions==0.57b0 in c:\\users\\abhay\\anaconda3\\envs\\llm39\\lib\\site-packages (from opentelemetry-sdk>=1.2.0->chromadb) (0.57b0)\n",
      "Requirement already satisfied: annotated-types>=0.6.0 in c:\\users\\abhay\\anaconda3\\envs\\llm39\\lib\\site-packages (from pydantic>=1.9->chromadb) (0.7.0)\n",
      "Requirement already satisfied: pydantic-core==2.33.2 in c:\\users\\abhay\\anaconda3\\envs\\llm39\\lib\\site-packages (from pydantic>=1.9->chromadb) (2.33.2)\n",
      "Requirement already satisfied: typing-inspection>=0.4.0 in c:\\users\\abhay\\anaconda3\\envs\\llm39\\lib\\site-packages (from pydantic>=1.9->chromadb) (0.4.1)\n",
      "Requirement already satisfied: markdown-it-py>=2.2.0 in c:\\users\\abhay\\anaconda3\\envs\\llm39\\lib\\site-packages (from rich>=10.11.0->chromadb) (4.0.0)\n",
      "Requirement already satisfied: pygments<3.0.0,>=2.13.0 in c:\\users\\abhay\\anaconda3\\envs\\llm39\\lib\\site-packages (from rich>=10.11.0->chromadb) (2.19.2)\n",
      "Requirement already satisfied: mdurl~=0.1 in c:\\users\\abhay\\anaconda3\\envs\\llm39\\lib\\site-packages (from markdown-it-py>=2.2.0->rich>=10.11.0->chromadb) (0.1.2)\n",
      "Requirement already satisfied: huggingface-hub<1.0,>=0.16.4 in c:\\users\\abhay\\anaconda3\\envs\\llm39\\lib\\site-packages (from tokenizers>=0.13.2->chromadb) (0.34.4)\n",
      "Requirement already satisfied: filelock in c:\\users\\abhay\\anaconda3\\envs\\llm39\\lib\\site-packages (from huggingface-hub<1.0,>=0.16.4->tokenizers>=0.13.2->chromadb) (3.19.1)\n",
      "Requirement already satisfied: fsspec>=2023.5.0 in c:\\users\\abhay\\anaconda3\\envs\\llm39\\lib\\site-packages (from huggingface-hub<1.0,>=0.16.4->tokenizers>=0.13.2->chromadb) (2025.9.0)\n",
      "Requirement already satisfied: click>=8.0.0 in c:\\users\\abhay\\anaconda3\\envs\\llm39\\lib\\site-packages (from typer>=0.9.0->chromadb) (8.2.1)\n",
      "Requirement already satisfied: shellingham>=1.3.0 in c:\\users\\abhay\\anaconda3\\envs\\llm39\\lib\\site-packages (from typer>=0.9.0->chromadb) (1.5.4)\n",
      "Requirement already satisfied: httptools>=0.6.3 in c:\\users\\abhay\\anaconda3\\envs\\llm39\\lib\\site-packages (from uvicorn[standard]>=0.18.3->chromadb) (0.6.4)\n",
      "Requirement already satisfied: python-dotenv>=0.13 in c:\\users\\abhay\\anaconda3\\envs\\llm39\\lib\\site-packages (from uvicorn[standard]>=0.18.3->chromadb) (1.1.1)\n",
      "Requirement already satisfied: watchfiles>=0.13 in c:\\users\\abhay\\anaconda3\\envs\\llm39\\lib\\site-packages (from uvicorn[standard]>=0.18.3->chromadb) (1.1.0)\n",
      "Requirement already satisfied: websockets>=10.4 in c:\\users\\abhay\\anaconda3\\envs\\llm39\\lib\\site-packages (from uvicorn[standard]>=0.18.3->chromadb) (15.0.1)\n",
      "Requirement already satisfied: sniffio>=1.1 in c:\\users\\abhay\\anaconda3\\envs\\llm39\\lib\\site-packages (from anyio->httpx>=0.27.0->chromadb) (1.3.1)\n",
      "Requirement already satisfied: humanfriendly>=9.1 in c:\\users\\abhay\\anaconda3\\envs\\llm39\\lib\\site-packages (from coloredlogs->onnxruntime>=1.14.1->chromadb) (10.0)\n",
      "Requirement already satisfied: pyreadline3 in c:\\users\\abhay\\anaconda3\\envs\\llm39\\lib\\site-packages (from humanfriendly>=9.1->coloredlogs->onnxruntime>=1.14.1->chromadb) (3.5.4)\n",
      "Requirement already satisfied: mpmath<1.4,>=1.1.0 in c:\\users\\abhay\\anaconda3\\envs\\llm39\\lib\\site-packages (from sympy->onnxruntime>=1.14.1->chromadb) (1.3.0)\n",
      "Note: you may need to restart the kernel to use updated packages.\n"
     ]
    }
   ],
   "source": [
    "pip install chromadb"
   ]
  },
  {
   "cell_type": "code",
   "execution_count": 22,
   "id": "a11c6c5d-8b11-459d-a38d-17bf38264587",
   "metadata": {},
   "outputs": [
    {
     "name": "stderr",
     "output_type": "stream",
     "text": [
      "C:\\Users\\Abhay\\AppData\\Local\\Temp\\ipykernel_16228\\3098658047.py:3: LangChainDeprecationWarning: The class `HuggingFaceEmbeddings` was deprecated in LangChain 0.2.2 and will be removed in 1.0. An updated version of the class exists in the :class:`~langchain-huggingface package and should be used instead. To use it run `pip install -U :class:`~langchain-huggingface` and import as `from :class:`~langchain_huggingface import HuggingFaceEmbeddings``.\n",
      "  embedding = SentenceTransformerEmbeddings(model_name='all-MiniLM-L6-v2'),\n",
      "C:\\Users\\Abhay\\anaconda3\\envs\\llm39\\Lib\\site-packages\\tqdm\\auto.py:21: TqdmWarning: IProgress not found. Please update jupyter and ipywidgets. See https://ipywidgets.readthedocs.io/en/stable/user_install.html\n",
      "  from .autonotebook import tqdm as notebook_tqdm\n"
     ]
    }
   ],
   "source": [
    "db = Chroma.from_documents(\n",
    "    documents = documents,\n",
    "    embedding = SentenceTransformerEmbeddings(model_name='all-MiniLM-L6-v2'),\n",
    "    persist_directory=\"./chroma_db\" #directory to save the database\n",
    ")"
   ]
  },
  {
   "cell_type": "code",
   "execution_count": 23,
   "id": "669def84-632e-48c1-bc9d-60b7837d2ccc",
   "metadata": {},
   "outputs": [],
   "source": [
    "#pip install chromadb\n"
   ]
  },
  {
   "cell_type": "code",
   "execution_count": 24,
   "id": "6c085983-1517-4ba9-b202-2dc9946938d1",
   "metadata": {},
   "outputs": [
    {
     "name": "stdout",
     "output_type": "stream",
     "text": [
      "GOVERNMENT OF INDIA\n",
      "BUDGET 2025-2026\n",
      "SPEECH\n",
      "OF\n",
      "NIRMALA SITHARAMAN\n",
      "MINISTER OF FINANCE\n",
      "February 1,  2025\n",
      "\n",
      "\n",
      "\n",
      " \n",
      "CONTENTS  \n",
      " \n",
      "PART – A \n",
      " Page No.  \n",
      "Introduction  1 \n",
      "Budget Theme  1 \n",
      "Agriculture as the 1st engine  3 \n",
      "MSMEs as the 2nd engine  6 \n",
      "Investment as the 3rd engine  8 \n",
      "A. Investing in People  8 \n",
      "B. Investing in  the Economy  10 \n",
      "C. Investing in Innovation  14 \n",
      "Exports as the 4th engine  15 \n",
      "Reforms as the Fuel  16 \n",
      "Fiscal Policy  18 \n",
      " \n",
      " \n",
      "PART – B \n",
      "Indirect taxes  20 \n",
      "Direct Taxes   23 \n",
      " \n",
      "Annexure to Part -A 29 \n",
      "Annexure to Part -B 31\n",
      "\n",
      "GOVERNMENT OF INDIA\n",
      "BUDGET 2025-2026\n",
      "SPEECH\n",
      "OF\n",
      "NIRMALA SITHARAMAN\n",
      "MINISTER OF FINANCE\n",
      "February 1,  2025\n",
      "\n",
      "\n",
      "\n",
      " \n",
      "CONTENTS  \n",
      " \n",
      "PART – A \n",
      " Page No.  \n",
      "Introduction  1 \n",
      "Budget Theme  1 \n",
      "Agriculture as the 1st engine  3 \n",
      "MSMEs as the 2nd engine  6 \n",
      "Investment as the 3rd engine  8 \n",
      "A. Investing in People  8 \n",
      "B. Investing in  the Economy  10 \n",
      "C. Investing in Innovation  14 \n",
      "Exports as the 4th engine  15 \n",
      "Reforms as the Fuel  16 \n",
      "Fiscal Policy  18 \n",
      " \n",
      " \n",
      "PART – B \n",
      "Indirect taxes  20 \n",
      "Direct Taxes   23 \n",
      " \n",
      "Annexure to Part -A 29 \n",
      "Annexure to Part -B 31\n",
      "\n",
      "14  \n",
      " \n",
      "4) Providing performance -linked incentives to states for effective \n",
      "destination management including tourist amenities, cleanliness, \n",
      "and marketing efforts; and  \n",
      "5) Introducing streamlined e -visa facilities along with visa -fee waivers \n",
      "for certain tourist groups.  \n",
      "77. Continuing with the emphasis on places of spiritual and religious \n",
      "significance in the July Budget, there will be a special focus on destinations \n",
      "related to the life and times of Lord Buddha.  \n",
      "Medical Tourism and Heal in India  \n",
      "78. Medical Tourism and Heal in India will be promoted in partnership with \n",
      "the private sector along with capacity building and easier visa norms.  \n",
      "C. Investing in Innovation  \n",
      "Research, Development and Innovation  \n",
      "79. To implement private sector driven Research, Development and \n",
      "Innovation initiative announced in the July Budget, I am now allocating  \n",
      "` 20,000 crore.   \n",
      "Deep Tech Fund of Funds  \n",
      "80. A Deep Tech Fund of Funds will also be explored to catalyze the next\n",
      "\n",
      "14  \n",
      " \n",
      "4) Providing performance -linked incentives to states for effective \n",
      "destination management including tourist amenities, cleanliness, \n",
      "and marketing efforts; and  \n",
      "5) Introducing streamlined e -visa facilities along with visa -fee waivers \n",
      "for certain tourist groups.  \n",
      "77. Continuing with the emphasis on places of spiritual and religious \n",
      "significance in the July Budget, there will be a special focus on destinations \n",
      "related to the life and times of Lord Buddha.  \n",
      "Medical Tourism and Heal in India  \n",
      "78. Medical Tourism and Heal in India will be promoted in partnership with \n",
      "the private sector along with capacity building and easier visa norms.  \n",
      "C. Investing in Innovation  \n",
      "Research, Development and Innovation  \n",
      "79. To implement private sector driven Research, Development and \n",
      "Innovation initiative announced in the July Budget, I am now allocating  \n",
      "` 20,000 crore.   \n",
      "Deep Tech Fund of Funds  \n",
      "80. A Deep Tech Fund of Funds will also be explored to catalyze the next\n"
     ]
    }
   ],
   "source": [
    "question = 'what is budget for AI?'\n",
    "similar_docs=db.similarity_search(question)\n",
    "data='\\n\\n'.join([d.page_content for d in similar_docs])\n",
    "print(data)"
   ]
  },
  {
   "cell_type": "code",
   "execution_count": 25,
   "id": "78446e9c-75a6-4176-913e-1b9cb3a7e9cf",
   "metadata": {},
   "outputs": [],
   "source": [
    "llm = ChatGroq(model='llama-3.1-8b-instant')\n",
    "parser = StrOutputParser()"
   ]
  },
  {
   "cell_type": "code",
   "execution_count": 26,
   "id": "7f23e0c1-43c4-4313-a9db-bb2ad1e9988c",
   "metadata": {},
   "outputs": [],
   "source": [
    "template = '''I will provide you question and the document which is having answer of that question inside it.\n",
    "Give me answer of the question in lines.Mention  'Dont know answer ' if you cant find answer in document.\n",
    "Question : {question}\n",
    "Document:{document}'''\n",
    "prompt =PromptTemplate(template=template,input_variables=['question','document'])"
   ]
  },
  {
   "cell_type": "code",
   "execution_count": 27,
   "id": "e401267f-daf1-42c8-9f85-86a872b7afce",
   "metadata": {},
   "outputs": [],
   "source": [
    "chain=prompt | llm | parser"
   ]
  },
  {
   "cell_type": "code",
   "execution_count": 29,
   "id": "f1152b7d-2d0a-4484-8e36-53d845534df3",
   "metadata": {},
   "outputs": [],
   "source": [
    "question = 'what is budget for Artificial Intelligence?'\n",
    "similar_docs=db.similarity_search(question)\n",
    "data = '\\n\\n'.join([d.page_content for d in similar_docs])\n",
    "answer=chain.invoke({\n",
    "       'question':question,\n",
    "        'document':data\n",
    "})"
   ]
  },
  {
   "cell_type": "code",
   "execution_count": 30,
   "id": "0011d3aa-d8ae-4aba-a5ec-ad45c9d817dc",
   "metadata": {},
   "outputs": [
    {
     "name": "stdout",
     "output_type": "stream",
     "text": [
      "For the question \"what is budget for Artificial Intelligence\", \n",
      "\n",
      "The answer is: \n",
      "Dont know answer\n"
     ]
    }
   ],
   "source": [
    "print(answer)"
   ]
  },
  {
   "cell_type": "code",
   "execution_count": null,
   "id": "a63fb3a8-5dca-4aeb-a275-16b13891c001",
   "metadata": {},
   "outputs": [],
   "source": []
  }
 ],
 "metadata": {
  "kernelspec": {
   "display_name": "Python [conda env:llm39]",
   "language": "python",
   "name": "conda-env-llm39-py"
  },
  "language_info": {
   "codemirror_mode": {
    "name": "ipython",
    "version": 3
   },
   "file_extension": ".py",
   "mimetype": "text/x-python",
   "name": "python",
   "nbconvert_exporter": "python",
   "pygments_lexer": "ipython3",
   "version": "3.12.0"
  }
 },
 "nbformat": 4,
 "nbformat_minor": 5
}
